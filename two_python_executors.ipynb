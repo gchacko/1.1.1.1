{
  "nbformat": 4,
  "nbformat_minor": 0,
  "metadata": {
    "colab": {
      "provenance": [],
      "include_colab_link": true
    },
    "kernelspec": {
      "name": "python3",
      "display_name": "Python 3"
    },
    "language_info": {
      "name": "python"
    }
  },
  "cells": [
    {
      "cell_type": "markdown",
      "metadata": {
        "id": "view-in-github",
        "colab_type": "text"
      },
      "source": [
        "<a href=\"https://colab.research.google.com/github/gchacko/1.1.1.1/blob/master/two_python_executors.ipynb\" target=\"_parent\"><img src=\"https://colab.research.google.com/assets/colab-badge.svg\" alt=\"Open In Colab\"/></a>"
      ]
    },
    {
      "cell_type": "code",
      "source": [
        "!pip install langgraph>=0.0.18 langchain-openai>=0.0.5 openai>=1.12.0 python-dotenv>=0.21.0 langchain-anthropic>=0.1.1 python-dotenv==1.0.1\n"
      ],
      "metadata": {
        "id": "U5FQU9a9MATr"
      },
      "execution_count": null,
      "outputs": []
    },
    {
      "cell_type": "code",
      "source": [
        "from dotenv import load_dotenv\n",
        "load_dotenv()"
      ],
      "metadata": {
        "id": "AbdFx3V6OpcY"
      },
      "execution_count": null,
      "outputs": []
    },
    {
      "cell_type": "code",
      "execution_count": null,
      "metadata": {
        "id": "ljHCZz5VLywN"
      },
      "outputs": [],
      "source": [
        "from typing import TypedDict,Dict,  List, Any\n",
        "from langgraph.graph import StateGraph, END, START\n",
        "from langchain_core.prompts import ChatPromptTemplate\n",
        "from langchain_anthropic import ChatAnthropic\n",
        "import ast\n",
        "import json\n",
        "import tempfile\n",
        "from pathlib import Path\n",
        "import subprocess\n",
        "\n",
        "class GraphState(TypedDict):\n",
        "    error: str\n",
        "    messages: List\n",
        "    generation: str\n",
        "    iterations: int\n",
        "    execution_method: str\n",
        "\n",
        "def validate_code(code_str: str) -> bool:\n",
        "    \"\"\"Basic validation of code string\"\"\"\n",
        "    try:\n",
        "        ast.parse(code_str)\n",
        "        return True\n",
        "    except SyntaxError:\n",
        "        return False\n",
        "\n",
        "def execute_with_exec(code_str: str, test_data: Dict[str, Any]) -> Dict[str, Any]:\n",
        "    \"\"\"Execute Python code string using exec()\"\"\"\n",
        "    if not validate_code(code_str):\n",
        "        raise ValueError(\"Invalid code\")\n",
        "    try:\n",
        "        namespace = test_data\n",
        "        exec(f\"result = {code_str}\", namespace)\n",
        "        return {'result': namespace['result']}\n",
        "    except Exception as e:\n",
        "        return {'error': str(e)}\n",
        "\n",
        "\n",
        "def execute_with_subprocess(code_str: str, test_data: Dict[str, Any]) -> Dict[str, Any]:\n",
        "    \"\"\"Execute Python code using subprocess.run()\"\"\"\n",
        "    if not validate_code(code_str):\n",
        "        return {'error': 'Invalid code syntax'}\n",
        "\n",
        "    with tempfile.NamedTemporaryFile(mode='w', suffix='.py', delete=False) as tmp:\n",
        "        script_content = (\n",
        "            f\"import json\\n\"\n",
        "            f\"import sys\\n\"\n",
        "            f\"input_data = json.loads(sys.argv[1])\\n\"\n",
        "            f\"numbers = input_data['numbers']\\n\"\n",
        "            f\"result = {code_str}\\n\"\n",
        "            f\"print(json.dumps({{'result': result}}))\"\n",
        "        )\n",
        "        tmp.write(script_content)\n",
        "        script_path = tmp.name\n",
        "\n",
        "    try:\n",
        "        input_json = json.dumps(test_data)\n",
        "        result = subprocess.run(\n",
        "            ['python', script_path, input_json],\n",
        "            capture_output=True,\n",
        "            text=True,\n",
        "            check=True\n",
        "        )\n",
        "        return json.loads(result.stdout)\n",
        "    except subprocess.CalledProcessError as e:\n",
        "        return {'error': f\"Process error: {e.stderr}\"}\n",
        "    except json.JSONDecodeError:\n",
        "        return {'error': \"Failed to parse output\"}\n",
        "    finally:\n",
        "        Path(script_path).unlink()\n",
        "\n",
        "def generate(state: GraphState) -> GraphState:\n",
        "    \"\"\"Generate a code solution\"\"\"\n",
        "    messages = state[\"messages\"]\n",
        "    error = state[\"error\"]\n",
        "    iterations = state[\"iterations\"]\n",
        "\n",
        "    code_gen_prompt = ChatPromptTemplate.from_messages([\n",
        "        (\"system\", \"\"\"You are a coding assistant. Answer the user question by providing\n",
        "         executable Python code. The code MUST be a complete expression, for example:\n",
        "         'sum(x**2 for x in numbers)'. Don't include variable initializations or test code,\n",
        "         just the core expression. If there were previous errors, fix them.\"\"\"),\n",
        "        (\"human\", \"{question}\"),\n",
        "        (\"human\", \"Previous errors if any: {error}\")\n",
        "    ])\n",
        "\n",
        "    llm = ChatAnthropic(model=\"claude-3-5-sonnet-20241022\", temperature=0)\n",
        "    generation = llm.invoke(code_gen_prompt.format_messages(\n",
        "        question=messages[0][1],\n",
        "        error=error\n",
        "    ))\n",
        "\n",
        "    print(f\"Attempt #{iterations + 1}\")\n",
        "\n",
        "    return {\n",
        "        \"generation\": generation.content,\n",
        "        \"messages\": messages,\n",
        "        \"iterations\": iterations + 1,\n",
        "        \"error\": \"\",\n",
        "        \"execution_method\": state[\"execution_method\"]\n",
        "    }\n",
        "\n",
        "def code_check(state: GraphState) -> GraphState:\n",
        "    \"\"\"Check code using specified execution method\"\"\"\n",
        "    code_solution = state[\"generation\"]\n",
        "    iterations = state[\"iterations\"]\n",
        "    test_data = {'numbers': [1, 2, 3]}\n",
        "\n",
        "    execution_method = (execute_with_subprocess if state[\"execution_method\"] == \"subprocess\"\n",
        "                       else execute_with_exec)\n",
        "\n",
        "    try:\n",
        "        result = execution_method(code_solution, test_data)\n",
        "        if 'error' in result:\n",
        "            print(f\"Failed attempt #{iterations} with error: {result['error']}\")\n",
        "            return {**state, \"error\": result['error']}\n",
        "\n",
        "        print(f\"Success on attempt #{iterations}\")\n",
        "        return {**state, \"error\": \"no\"}\n",
        "    except Exception as e:\n",
        "        print(f\"Failed attempt #{iterations} with error: {str(e)}\")\n",
        "        return {**state, \"error\": str(e)}\n",
        "\n",
        "def should_retry(state: GraphState) -> str:\n",
        "    \"\"\"Determine if we should retry on error\"\"\"\n",
        "    error = state[\"error\"]\n",
        "    iterations = state[\"iterations\"]\n",
        "\n",
        "    if error == \"no\":\n",
        "        return \"end\"\n",
        "    if iterations < 3:\n",
        "        print(f\"Retrying after attempt #{iterations}\")\n",
        "        return \"generate\"\n",
        "    print(f\"Giving up after {iterations} attempts\")\n",
        "    return \"end\"\n",
        "\n",
        "# Build graph\n",
        "workflow = StateGraph(GraphState)\n",
        "workflow.add_node(\"generate\", generate)\n",
        "workflow.add_node(\"check_code\", code_check)\n",
        "\n",
        "# Connect nodes\n",
        "workflow.add_edge(START, \"generate\")\n",
        "workflow.add_edge(\"generate\", \"check_code\")\n",
        "\n",
        "workflow.add_conditional_edges(\n",
        "    \"check_code\",\n",
        "    should_retry,\n",
        "    {\n",
        "        \"generate\": \"generate\",\n",
        "        \"end\": END\n",
        "    }\n",
        ")\n",
        "\n",
        "app = workflow.compile()"
      ]
    },
    {
      "cell_type": "markdown",
      "source": [
        "## Getting Started with exec() and subprocess.run()"
      ],
      "metadata": {
        "id": "adi3-8yOMUuI"
      }
    },
    {
      "cell_type": "code",
      "source": [
        "code = \"\"\"\n",
        "def greet(name):\n",
        "    return f\"Hello, {name}!\"\n",
        "\n",
        "message = greet(\"Alice\")\n",
        "\"\"\"\n",
        "\n",
        "exec(code)\n",
        "\n",
        "print(message)"
      ],
      "metadata": {
        "id": "Vl_FT_XZMUDv"
      },
      "execution_count": null,
      "outputs": []
    },
    {
      "cell_type": "code",
      "source": [
        "import subprocess\n",
        "\n",
        "result = subprocess.run(\n",
        "    [\"python\", \"-c\", \"print('Hello, World!')\"],\n",
        "    capture_output=True,\n",
        "    text=True\n",
        ")"
      ],
      "metadata": {
        "id": "c2p5G8D7Mehj"
      },
      "execution_count": null,
      "outputs": []
    },
    {
      "cell_type": "code",
      "source": [
        "result.stdout.strip()"
      ],
      "metadata": {
        "id": "xGZwWbNXMg95"
      },
      "execution_count": null,
      "outputs": []
    },
    {
      "cell_type": "markdown",
      "source": [
        "## Executing the Agent Code"
      ],
      "metadata": {
        "id": "VESholwTMk0n"
      }
    },
    {
      "cell_type": "code",
      "source": [
        "from agent import app, execute_with_exec, execute_with_subprocess\n",
        "\n",
        "# Test questions\n",
        "questions = [\n",
        "    \"Write code that takes a list of numbers and returns their sum\",\n",
        "    \"Write code that takes a list of numbers and returns the sum of their squares\",\n",
        "    \"Write code that takes a list of numbers and returns the sum of the squares of even numbers that are greater than 3\"\n",
        "]\n",
        "\n",
        "test_data = {'numbers': [1, 2, 3, 4, 5, 6, 7, 8]}"
      ],
      "metadata": {
        "id": "OQwT20JAMkQd"
      },
      "execution_count": null,
      "outputs": []
    },
    {
      "cell_type": "code",
      "source": [
        "from IPython.display import display, Markdown\n",
        "\n",
        "def test_questions_exec(questions,test_data):\n",
        "    for i, question in enumerate(questions, 1):\n",
        "        result = app.invoke({\n",
        "            \"messages\": [(\"user\", question)],\n",
        "            \"iterations\": 0,\n",
        "            \"error\": \"\",\n",
        "            \"generation\": None,\n",
        "            \"execution_method\": \"exec\"\n",
        "        })\n",
        "\n",
        "        output = execute_with_exec(result[\"generation\"], test_data)\n",
        "\n",
        "        display(Markdown(f\"\"\"\n",
        "## Question {i} with exec()\n",
        "{question}\n",
        "\n",
        "### Solution (after {result['iterations']} iterations):\n",
        "```python\n",
        "{result[\"generation\"]}\n",
        "```\n",
        "\n",
        "### Test Output ([1,2,3,4,5,6,7,8]):\n",
        "```\n",
        "{output}\n",
        "```\n",
        "---\n",
        "\"\"\"))"
      ],
      "metadata": {
        "id": "BfzmoUMwOZtY"
      },
      "execution_count": null,
      "outputs": []
    },
    {
      "cell_type": "code",
      "source": [
        "test_questions_exec(questions,test_data)"
      ],
      "metadata": {
        "id": "GvShpdX4Oce7"
      },
      "execution_count": null,
      "outputs": []
    },
    {
      "cell_type": "code",
      "source": [
        "\n",
        "def test_questions_subprocess(questions):\n",
        "    for i, question in enumerate(questions, 1):\n",
        "        result = app.invoke({\n",
        "            \"messages\": [(\"user\", question)],\n",
        "            \"iterations\": 0,\n",
        "            \"error\": \"\",\n",
        "            \"generation\": None,\n",
        "            \"execution_method\": \"subprocess\"\n",
        "        })\n",
        "\n",
        "        test_data = {'numbers': [1, 2, 3, 4, 5, 6, 7, 8]}\n",
        "        output = execute_with_subprocess(result[\"generation\"], test_data)\n",
        "\n",
        "        display(Markdown(f\"\"\"\n",
        "## Question {i} with subprocess\n",
        "{question}\n",
        "\n",
        "### Solution (after {result['iterations']} iterations):\n",
        "```python\n",
        "{result[\"generation\"]}\n",
        "```\n",
        "\n",
        "### Test Output ([1,2,3,4,5,6,7,8]):\n",
        "```\n",
        "{output}\n",
        "```\n",
        "---\n",
        "\"\"\"))"
      ],
      "metadata": {
        "id": "JFVKbCvEOfpA"
      },
      "execution_count": null,
      "outputs": []
    },
    {
      "cell_type": "code",
      "source": [
        "test_questions_subprocess(questions)"
      ],
      "metadata": {
        "id": "l9Sff0jJOjL3"
      },
      "execution_count": null,
      "outputs": []
    }
  ]
}